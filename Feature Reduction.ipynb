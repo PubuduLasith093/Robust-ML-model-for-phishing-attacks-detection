{
 "cells": [
  {
   "cell_type": "code",
   "execution_count": 7,
   "metadata": {},
   "outputs": [],
   "source": [
    "import pandas as pd\n",
    "import numpy as np\n",
    "import matplotlib.pyplot as plt\n",
    "import random\n",
    "import re\n",
    "from sklearn.model_selection import train_test_split\n",
    "from sklearn.metrics import confusion_matrix, classification_report\n",
    "import seaborn as sns\n",
    "from scipy.io import arff\n",
    "from sklearn.metrics import precision_score,accuracy_score,f1_score,recall_score,roc_auc_score\n",
    "from sklearn.ensemble import GradientBoostingClassifier\n",
    "from sklearn.model_selection import cross_val_score\n",
    "from sklearn import preprocessing\n",
    "from sklearn.feature_selection import f_classif, f_regression\n",
    "from sklearn.feature_selection import SelectKBest, SelectPercentile\n",
    "from sklearn.feature_selection import chi2\n",
    "from sklearn.feature_selection import VarianceThreshold"
   ]
  },
  {
   "cell_type": "code",
   "execution_count": 10,
   "metadata": {},
   "outputs": [],
   "source": [
    "data = arff.loadarff('phish_legit_7.arff')\n",
    "df = pd.DataFrame(data[0])"
   ]
  },
  {
   "cell_type": "code",
   "execution_count": 11,
   "metadata": {},
   "outputs": [
    {
     "data": {
      "text/html": [
       "<div>\n",
       "<style scoped>\n",
       "    .dataframe tbody tr th:only-of-type {\n",
       "        vertical-align: middle;\n",
       "    }\n",
       "\n",
       "    .dataframe tbody tr th {\n",
       "        vertical-align: top;\n",
       "    }\n",
       "\n",
       "    .dataframe thead th {\n",
       "        text-align: right;\n",
       "    }\n",
       "</style>\n",
       "<table border=\"1\" class=\"dataframe\">\n",
       "  <thead>\n",
       "    <tr style=\"text-align: right;\">\n",
       "      <th></th>\n",
       "      <th>domain_digit_count</th>\n",
       "      <th>subdomain_digit_count</th>\n",
       "      <th>path_digit_count</th>\n",
       "      <th>domain_length</th>\n",
       "      <th>subdomain_length</th>\n",
       "      <th>path_length</th>\n",
       "      <th>isKnownTld</th>\n",
       "      <th>www</th>\n",
       "      <th>com</th>\n",
       "      <th>punnyCode</th>\n",
       "      <th>...</th>\n",
       "      <th>keyword_count</th>\n",
       "      <th>brand_name_count</th>\n",
       "      <th>negligible_word_count</th>\n",
       "      <th>target_brand_count</th>\n",
       "      <th>target_keyword_count</th>\n",
       "      <th>similar_keyword_count</th>\n",
       "      <th>similar_brand_count</th>\n",
       "      <th>average_compound_words</th>\n",
       "      <th>random_words</th>\n",
       "      <th>class</th>\n",
       "    </tr>\n",
       "  </thead>\n",
       "  <tbody>\n",
       "    <tr>\n",
       "      <th>0</th>\n",
       "      <td>0.0</td>\n",
       "      <td>0.0</td>\n",
       "      <td>0.0</td>\n",
       "      <td>13.0</td>\n",
       "      <td>0.0</td>\n",
       "      <td>0.0</td>\n",
       "      <td>1.0</td>\n",
       "      <td>0.0</td>\n",
       "      <td>0.0</td>\n",
       "      <td>0.0</td>\n",
       "      <td>...</td>\n",
       "      <td>0.0</td>\n",
       "      <td>1.0</td>\n",
       "      <td>1.0</td>\n",
       "      <td>0.0</td>\n",
       "      <td>0.0</td>\n",
       "      <td>0.0</td>\n",
       "      <td>0.0</td>\n",
       "      <td>7.000000</td>\n",
       "      <td>0.0</td>\n",
       "      <td>b'phish'</td>\n",
       "    </tr>\n",
       "    <tr>\n",
       "      <th>1</th>\n",
       "      <td>0.0</td>\n",
       "      <td>0.0</td>\n",
       "      <td>0.0</td>\n",
       "      <td>13.0</td>\n",
       "      <td>0.0</td>\n",
       "      <td>0.0</td>\n",
       "      <td>1.0</td>\n",
       "      <td>0.0</td>\n",
       "      <td>0.0</td>\n",
       "      <td>0.0</td>\n",
       "      <td>...</td>\n",
       "      <td>2.0</td>\n",
       "      <td>0.0</td>\n",
       "      <td>0.0</td>\n",
       "      <td>0.0</td>\n",
       "      <td>0.0</td>\n",
       "      <td>0.0</td>\n",
       "      <td>0.0</td>\n",
       "      <td>0.000000</td>\n",
       "      <td>0.0</td>\n",
       "      <td>b'phish'</td>\n",
       "    </tr>\n",
       "    <tr>\n",
       "      <th>2</th>\n",
       "      <td>2.0</td>\n",
       "      <td>7.0</td>\n",
       "      <td>0.0</td>\n",
       "      <td>14.0</td>\n",
       "      <td>45.0</td>\n",
       "      <td>0.0</td>\n",
       "      <td>1.0</td>\n",
       "      <td>0.0</td>\n",
       "      <td>1.0</td>\n",
       "      <td>0.0</td>\n",
       "      <td>...</td>\n",
       "      <td>5.0</td>\n",
       "      <td>1.0</td>\n",
       "      <td>2.0</td>\n",
       "      <td>0.0</td>\n",
       "      <td>0.0</td>\n",
       "      <td>0.0</td>\n",
       "      <td>0.0</td>\n",
       "      <td>13.000000</td>\n",
       "      <td>0.0</td>\n",
       "      <td>b'phish'</td>\n",
       "    </tr>\n",
       "    <tr>\n",
       "      <th>3</th>\n",
       "      <td>2.0</td>\n",
       "      <td>7.0</td>\n",
       "      <td>0.0</td>\n",
       "      <td>14.0</td>\n",
       "      <td>45.0</td>\n",
       "      <td>0.0</td>\n",
       "      <td>1.0</td>\n",
       "      <td>0.0</td>\n",
       "      <td>1.0</td>\n",
       "      <td>0.0</td>\n",
       "      <td>...</td>\n",
       "      <td>5.0</td>\n",
       "      <td>1.0</td>\n",
       "      <td>2.0</td>\n",
       "      <td>0.0</td>\n",
       "      <td>0.0</td>\n",
       "      <td>0.0</td>\n",
       "      <td>0.0</td>\n",
       "      <td>13.000000</td>\n",
       "      <td>0.0</td>\n",
       "      <td>b'phish'</td>\n",
       "    </tr>\n",
       "    <tr>\n",
       "      <th>4</th>\n",
       "      <td>2.0</td>\n",
       "      <td>0.0</td>\n",
       "      <td>0.0</td>\n",
       "      <td>14.0</td>\n",
       "      <td>0.0</td>\n",
       "      <td>0.0</td>\n",
       "      <td>1.0</td>\n",
       "      <td>0.0</td>\n",
       "      <td>0.0</td>\n",
       "      <td>0.0</td>\n",
       "      <td>...</td>\n",
       "      <td>2.0</td>\n",
       "      <td>0.0</td>\n",
       "      <td>1.0</td>\n",
       "      <td>0.0</td>\n",
       "      <td>0.0</td>\n",
       "      <td>0.0</td>\n",
       "      <td>0.0</td>\n",
       "      <td>12.000000</td>\n",
       "      <td>0.0</td>\n",
       "      <td>b'phish'</td>\n",
       "    </tr>\n",
       "    <tr>\n",
       "      <th>...</th>\n",
       "      <td>...</td>\n",
       "      <td>...</td>\n",
       "      <td>...</td>\n",
       "      <td>...</td>\n",
       "      <td>...</td>\n",
       "      <td>...</td>\n",
       "      <td>...</td>\n",
       "      <td>...</td>\n",
       "      <td>...</td>\n",
       "      <td>...</td>\n",
       "      <td>...</td>\n",
       "      <td>...</td>\n",
       "      <td>...</td>\n",
       "      <td>...</td>\n",
       "      <td>...</td>\n",
       "      <td>...</td>\n",
       "      <td>...</td>\n",
       "      <td>...</td>\n",
       "      <td>...</td>\n",
       "      <td>...</td>\n",
       "      <td>...</td>\n",
       "    </tr>\n",
       "    <tr>\n",
       "      <th>73570</th>\n",
       "      <td>0.0</td>\n",
       "      <td>0.0</td>\n",
       "      <td>0.0</td>\n",
       "      <td>8.0</td>\n",
       "      <td>3.0</td>\n",
       "      <td>46.0</td>\n",
       "      <td>1.0</td>\n",
       "      <td>1.0</td>\n",
       "      <td>0.0</td>\n",
       "      <td>0.0</td>\n",
       "      <td>...</td>\n",
       "      <td>0.0</td>\n",
       "      <td>1.0</td>\n",
       "      <td>7.0</td>\n",
       "      <td>1.0</td>\n",
       "      <td>1.0</td>\n",
       "      <td>1.0</td>\n",
       "      <td>1.0</td>\n",
       "      <td>12.500000</td>\n",
       "      <td>0.0</td>\n",
       "      <td>b'legitimate'</td>\n",
       "    </tr>\n",
       "    <tr>\n",
       "      <th>73571</th>\n",
       "      <td>0.0</td>\n",
       "      <td>0.0</td>\n",
       "      <td>0.0</td>\n",
       "      <td>8.0</td>\n",
       "      <td>3.0</td>\n",
       "      <td>34.0</td>\n",
       "      <td>1.0</td>\n",
       "      <td>1.0</td>\n",
       "      <td>0.0</td>\n",
       "      <td>0.0</td>\n",
       "      <td>...</td>\n",
       "      <td>1.0</td>\n",
       "      <td>0.0</td>\n",
       "      <td>4.0</td>\n",
       "      <td>0.0</td>\n",
       "      <td>1.0</td>\n",
       "      <td>1.0</td>\n",
       "      <td>0.0</td>\n",
       "      <td>7.666667</td>\n",
       "      <td>0.0</td>\n",
       "      <td>b'legitimate'</td>\n",
       "    </tr>\n",
       "    <tr>\n",
       "      <th>73572</th>\n",
       "      <td>0.0</td>\n",
       "      <td>0.0</td>\n",
       "      <td>8.0</td>\n",
       "      <td>5.0</td>\n",
       "      <td>6.0</td>\n",
       "      <td>83.0</td>\n",
       "      <td>1.0</td>\n",
       "      <td>0.0</td>\n",
       "      <td>0.0</td>\n",
       "      <td>0.0</td>\n",
       "      <td>...</td>\n",
       "      <td>0.0</td>\n",
       "      <td>1.0</td>\n",
       "      <td>6.0</td>\n",
       "      <td>0.0</td>\n",
       "      <td>2.0</td>\n",
       "      <td>2.0</td>\n",
       "      <td>0.0</td>\n",
       "      <td>32.000000</td>\n",
       "      <td>0.0</td>\n",
       "      <td>b'legitimate'</td>\n",
       "    </tr>\n",
       "    <tr>\n",
       "      <th>73573</th>\n",
       "      <td>1.0</td>\n",
       "      <td>0.0</td>\n",
       "      <td>0.0</td>\n",
       "      <td>9.0</td>\n",
       "      <td>0.0</td>\n",
       "      <td>15.0</td>\n",
       "      <td>1.0</td>\n",
       "      <td>0.0</td>\n",
       "      <td>0.0</td>\n",
       "      <td>0.0</td>\n",
       "      <td>...</td>\n",
       "      <td>0.0</td>\n",
       "      <td>0.0</td>\n",
       "      <td>4.0</td>\n",
       "      <td>0.0</td>\n",
       "      <td>0.0</td>\n",
       "      <td>0.0</td>\n",
       "      <td>0.0</td>\n",
       "      <td>8.000000</td>\n",
       "      <td>0.0</td>\n",
       "      <td>b'legitimate'</td>\n",
       "    </tr>\n",
       "    <tr>\n",
       "      <th>73574</th>\n",
       "      <td>0.0</td>\n",
       "      <td>0.0</td>\n",
       "      <td>0.0</td>\n",
       "      <td>9.0</td>\n",
       "      <td>3.0</td>\n",
       "      <td>16.0</td>\n",
       "      <td>1.0</td>\n",
       "      <td>1.0</td>\n",
       "      <td>0.0</td>\n",
       "      <td>0.0</td>\n",
       "      <td>...</td>\n",
       "      <td>1.0</td>\n",
       "      <td>0.0</td>\n",
       "      <td>2.0</td>\n",
       "      <td>0.0</td>\n",
       "      <td>1.0</td>\n",
       "      <td>1.0</td>\n",
       "      <td>0.0</td>\n",
       "      <td>9.000000</td>\n",
       "      <td>0.0</td>\n",
       "      <td>b'legitimate'</td>\n",
       "    </tr>\n",
       "  </tbody>\n",
       "</table>\n",
       "<p>73575 rows × 39 columns</p>\n",
       "</div>"
      ],
      "text/plain": [
       "       domain_digit_count  subdomain_digit_count  path_digit_count  \\\n",
       "0                     0.0                    0.0               0.0   \n",
       "1                     0.0                    0.0               0.0   \n",
       "2                     2.0                    7.0               0.0   \n",
       "3                     2.0                    7.0               0.0   \n",
       "4                     2.0                    0.0               0.0   \n",
       "...                   ...                    ...               ...   \n",
       "73570                 0.0                    0.0               0.0   \n",
       "73571                 0.0                    0.0               0.0   \n",
       "73572                 0.0                    0.0               8.0   \n",
       "73573                 1.0                    0.0               0.0   \n",
       "73574                 0.0                    0.0               0.0   \n",
       "\n",
       "       domain_length  subdomain_length  path_length  isKnownTld  www  com  \\\n",
       "0               13.0               0.0          0.0         1.0  0.0  0.0   \n",
       "1               13.0               0.0          0.0         1.0  0.0  0.0   \n",
       "2               14.0              45.0          0.0         1.0  0.0  1.0   \n",
       "3               14.0              45.0          0.0         1.0  0.0  1.0   \n",
       "4               14.0               0.0          0.0         1.0  0.0  0.0   \n",
       "...              ...               ...          ...         ...  ...  ...   \n",
       "73570            8.0               3.0         46.0         1.0  1.0  0.0   \n",
       "73571            8.0               3.0         34.0         1.0  1.0  0.0   \n",
       "73572            5.0               6.0         83.0         1.0  0.0  0.0   \n",
       "73573            9.0               0.0         15.0         1.0  0.0  0.0   \n",
       "73574            9.0               3.0         16.0         1.0  1.0  0.0   \n",
       "\n",
       "       punnyCode  ...  keyword_count  brand_name_count  negligible_word_count  \\\n",
       "0            0.0  ...            0.0               1.0                    1.0   \n",
       "1            0.0  ...            2.0               0.0                    0.0   \n",
       "2            0.0  ...            5.0               1.0                    2.0   \n",
       "3            0.0  ...            5.0               1.0                    2.0   \n",
       "4            0.0  ...            2.0               0.0                    1.0   \n",
       "...          ...  ...            ...               ...                    ...   \n",
       "73570        0.0  ...            0.0               1.0                    7.0   \n",
       "73571        0.0  ...            1.0               0.0                    4.0   \n",
       "73572        0.0  ...            0.0               1.0                    6.0   \n",
       "73573        0.0  ...            0.0               0.0                    4.0   \n",
       "73574        0.0  ...            1.0               0.0                    2.0   \n",
       "\n",
       "       target_brand_count  target_keyword_count  similar_keyword_count  \\\n",
       "0                     0.0                   0.0                    0.0   \n",
       "1                     0.0                   0.0                    0.0   \n",
       "2                     0.0                   0.0                    0.0   \n",
       "3                     0.0                   0.0                    0.0   \n",
       "4                     0.0                   0.0                    0.0   \n",
       "...                   ...                   ...                    ...   \n",
       "73570                 1.0                   1.0                    1.0   \n",
       "73571                 0.0                   1.0                    1.0   \n",
       "73572                 0.0                   2.0                    2.0   \n",
       "73573                 0.0                   0.0                    0.0   \n",
       "73574                 0.0                   1.0                    1.0   \n",
       "\n",
       "       similar_brand_count  average_compound_words  random_words  \\\n",
       "0                      0.0                7.000000           0.0   \n",
       "1                      0.0                0.000000           0.0   \n",
       "2                      0.0               13.000000           0.0   \n",
       "3                      0.0               13.000000           0.0   \n",
       "4                      0.0               12.000000           0.0   \n",
       "...                    ...                     ...           ...   \n",
       "73570                  1.0               12.500000           0.0   \n",
       "73571                  0.0                7.666667           0.0   \n",
       "73572                  0.0               32.000000           0.0   \n",
       "73573                  0.0                8.000000           0.0   \n",
       "73574                  0.0                9.000000           0.0   \n",
       "\n",
       "               class  \n",
       "0           b'phish'  \n",
       "1           b'phish'  \n",
       "2           b'phish'  \n",
       "3           b'phish'  \n",
       "4           b'phish'  \n",
       "...              ...  \n",
       "73570  b'legitimate'  \n",
       "73571  b'legitimate'  \n",
       "73572  b'legitimate'  \n",
       "73573  b'legitimate'  \n",
       "73574  b'legitimate'  \n",
       "\n",
       "[73575 rows x 39 columns]"
      ]
     },
     "execution_count": 11,
     "metadata": {},
     "output_type": "execute_result"
    }
   ],
   "source": [
    "df"
   ]
  },
  {
   "cell_type": "code",
   "execution_count": 3,
   "metadata": {},
   "outputs": [],
   "source": [
    "new_df = df.sample(frac=1)"
   ]
  },
  {
   "cell_type": "code",
   "execution_count": 4,
   "metadata": {},
   "outputs": [],
   "source": [
    "X = new_df.drop('class', axis=1)\n",
    "encode = preprocessing.LabelEncoder()\n",
    "y_str2= new_df['class'].values\n",
    "encode.fit(y_str2)\n",
    "y = encode.transform(y_str2)"
   ]
  },
  {
   "cell_type": "code",
   "execution_count": 5,
   "metadata": {},
   "outputs": [],
   "source": [
    "X_train,X_test_mid,y_train,y_test_mid = train_test_split(X, y, test_size = .2)\n",
    "x_test,x_val,y_test,y_val =train_test_split(X_test_mid, y_test_mid, test_size = .5)"
   ]
  },
  {
   "cell_type": "code",
   "execution_count": 7,
   "metadata": {},
   "outputs": [
    {
     "data": {
      "text/plain": [
       "array([1, 1, 1, ..., 1, 0, 0])"
      ]
     },
     "execution_count": 7,
     "metadata": {},
     "output_type": "execute_result"
    }
   ],
   "source": [
    "y_train"
   ]
  },
  {
   "cell_type": "code",
   "execution_count": 7,
   "metadata": {},
   "outputs": [],
   "source": [
    "def get_metrics(y_true, y_pred):\n",
    "    dict_data = {}\n",
    "    \n",
    "    dict_data['model_name'] = \"Gardient boost classifier\"\n",
    "    dict_data['accuracy'] = accuracy_score(y_true, y_pred)\n",
    "    dict_data['precision'] = precision_score(y_true, y_pred)  \n",
    "    dict_data['f1'] = f1_score(y_true, y_pred)  \n",
    "    dict_data['recall'] = recall_score(y_true, y_pred)  \n",
    "    dict_data['roc'] = roc_auc_score(y_true, y_pred)  \n",
    "    \n",
    "    return dict_data"
   ]
  },
  {
   "cell_type": "code",
   "execution_count": 8,
   "metadata": {},
   "outputs": [],
   "source": [
    "df_result = pd.DataFrame(columns=['accuracy','precision','f1','recall','roc'])"
   ]
  },
  {
   "cell_type": "code",
   "execution_count": 9,
   "metadata": {},
   "outputs": [
    {
     "name": "stdout",
     "output_type": "stream",
     "text": [
      "Wall time: 1min 38s\n"
     ]
    }
   ],
   "source": [
    "%%time\n",
    "gbc = GradientBoostingClassifier(n_estimators = 200, max_depth =9, learning_rate =0.1)\n",
    "gbc.fit(X_train,y_train)\n",
    "predictions = gbc.predict(x_test)\n",
    "data = get_metrics(y_test,predictions)\n",
    "df_result = df_result.append(data, ignore_index=True)"
   ]
  },
  {
   "cell_type": "code",
   "execution_count": 10,
   "metadata": {},
   "outputs": [
    {
     "data": {
      "text/html": [
       "<div>\n",
       "<style scoped>\n",
       "    .dataframe tbody tr th:only-of-type {\n",
       "        vertical-align: middle;\n",
       "    }\n",
       "\n",
       "    .dataframe tbody tr th {\n",
       "        vertical-align: top;\n",
       "    }\n",
       "\n",
       "    .dataframe thead th {\n",
       "        text-align: right;\n",
       "    }\n",
       "</style>\n",
       "<table border=\"1\" class=\"dataframe\">\n",
       "  <thead>\n",
       "    <tr style=\"text-align: right;\">\n",
       "      <th></th>\n",
       "      <th>accuracy</th>\n",
       "      <th>precision</th>\n",
       "      <th>f1</th>\n",
       "      <th>recall</th>\n",
       "      <th>roc</th>\n",
       "      <th>model_name</th>\n",
       "    </tr>\n",
       "  </thead>\n",
       "  <tbody>\n",
       "    <tr>\n",
       "      <th>0</th>\n",
       "      <td>0.961261</td>\n",
       "      <td>0.951566</td>\n",
       "      <td>0.962076</td>\n",
       "      <td>0.97282</td>\n",
       "      <td>0.961142</td>\n",
       "      <td>Gardient boost classifier</td>\n",
       "    </tr>\n",
       "  </tbody>\n",
       "</table>\n",
       "</div>"
      ],
      "text/plain": [
       "   accuracy  precision        f1   recall       roc                 model_name\n",
       "0  0.961261   0.951566  0.962076  0.97282  0.961142  Gardient boost classifier"
      ]
     },
     "execution_count": 10,
     "metadata": {},
     "output_type": "execute_result"
    }
   ],
   "source": [
    "df_result"
   ]
  },
  {
   "cell_type": "markdown",
   "metadata": {},
   "source": [
    "## constatnt feature removel"
   ]
  },
  {
   "cell_type": "code",
   "execution_count": 15,
   "metadata": {},
   "outputs": [
    {
     "data": {
      "text/plain": [
       "VarianceThreshold(threshold=0)"
      ]
     },
     "execution_count": 15,
     "metadata": {},
     "output_type": "execute_result"
    }
   ],
   "source": [
    "constant_filter = VarianceThreshold(threshold=0)\n",
    "constant_filter.fit(X_train)"
   ]
  },
  {
   "cell_type": "code",
   "execution_count": 16,
   "metadata": {},
   "outputs": [
    {
     "data": {
      "text/plain": [
       "38"
      ]
     },
     "execution_count": 16,
     "metadata": {},
     "output_type": "execute_result"
    }
   ],
   "source": [
    "constant_filter.get_support().sum()"
   ]
  },
  {
   "cell_type": "code",
   "execution_count": 17,
   "metadata": {},
   "outputs": [],
   "source": [
    "X_train_filter = constant_filter.transform(X_train)\n",
    "x_test_filter = constant_filter.transform(x_test)"
   ]
  },
  {
   "cell_type": "markdown",
   "metadata": {},
   "source": [
    "## quasi constant feature removel"
   ]
  },
  {
   "cell_type": "code",
   "execution_count": 19,
   "metadata": {},
   "outputs": [
    {
     "data": {
      "text/plain": [
       "VarianceThreshold(threshold=0.01)"
      ]
     },
     "execution_count": 19,
     "metadata": {},
     "output_type": "execute_result"
    }
   ],
   "source": [
    "quasi_constant_filter = VarianceThreshold(threshold=0.01)\n",
    "quasi_constant_filter.fit(X_train_filter)"
   ]
  },
  {
   "cell_type": "code",
   "execution_count": 20,
   "metadata": {},
   "outputs": [
    {
     "data": {
      "text/plain": [
       "37"
      ]
     },
     "execution_count": 20,
     "metadata": {},
     "output_type": "execute_result"
    }
   ],
   "source": [
    "quasi_constant_filter.get_support().sum()"
   ]
  },
  {
   "cell_type": "code",
   "execution_count": 21,
   "metadata": {},
   "outputs": [],
   "source": [
    "qconstant_columns = [column for column in X_train.columns\n",
    "                    if column not in X_train.columns[quasi_constant_filter.get_support()]]"
   ]
  },
  {
   "cell_type": "code",
   "execution_count": 22,
   "metadata": {},
   "outputs": [
    {
     "name": "stdout",
     "output_type": "stream",
     "text": [
      "punnyCode\n"
     ]
    }
   ],
   "source": [
    "for column in qconstant_columns:\n",
    "    print(column)"
   ]
  },
  {
   "cell_type": "code",
   "execution_count": 23,
   "metadata": {},
   "outputs": [],
   "source": [
    "X_train_quasi_filter = quasi_constant_filter.transform(X_train_filter)\n",
    "x_test_quasi_filter = quasi_constant_filter.transform(x_test_filter)"
   ]
  },
  {
   "cell_type": "code",
   "execution_count": 24,
   "metadata": {},
   "outputs": [
    {
     "name": "stdout",
     "output_type": "stream",
     "text": [
      "Wall time: 1min 42s\n"
     ]
    }
   ],
   "source": [
    "%%time\n",
    "gbc = GradientBoostingClassifier(n_estimators = 200, max_depth =9, learning_rate =0.1)\n",
    "gbc.fit(X_train_quasi_filter,y_train)\n",
    "predictions = gbc.predict(x_test_quasi_filter)\n",
    "data = get_metrics(y_test,predictions)\n",
    "df_result = df_result.append(data, ignore_index=True)"
   ]
  },
  {
   "cell_type": "code",
   "execution_count": 28,
   "metadata": {},
   "outputs": [
    {
     "data": {
      "text/html": [
       "<div>\n",
       "<style scoped>\n",
       "    .dataframe tbody tr th:only-of-type {\n",
       "        vertical-align: middle;\n",
       "    }\n",
       "\n",
       "    .dataframe tbody tr th {\n",
       "        vertical-align: top;\n",
       "    }\n",
       "\n",
       "    .dataframe thead th {\n",
       "        text-align: right;\n",
       "    }\n",
       "</style>\n",
       "<table border=\"1\" class=\"dataframe\">\n",
       "  <thead>\n",
       "    <tr style=\"text-align: right;\">\n",
       "      <th></th>\n",
       "      <th>accuracy</th>\n",
       "      <th>precision</th>\n",
       "      <th>f1</th>\n",
       "      <th>recall</th>\n",
       "      <th>roc</th>\n",
       "      <th>model_name</th>\n",
       "    </tr>\n",
       "  </thead>\n",
       "  <tbody>\n",
       "    <tr>\n",
       "      <th>0</th>\n",
       "      <td>0.961261</td>\n",
       "      <td>0.951566</td>\n",
       "      <td>0.962076</td>\n",
       "      <td>0.972820</td>\n",
       "      <td>0.961142</td>\n",
       "      <td>Gardient boost classifier</td>\n",
       "    </tr>\n",
       "    <tr>\n",
       "      <th>1</th>\n",
       "      <td>0.961397</td>\n",
       "      <td>0.950630</td>\n",
       "      <td>0.962254</td>\n",
       "      <td>0.974166</td>\n",
       "      <td>0.961266</td>\n",
       "      <td>Gardient boost classifier</td>\n",
       "    </tr>\n",
       "  </tbody>\n",
       "</table>\n",
       "</div>"
      ],
      "text/plain": [
       "   accuracy  precision        f1    recall       roc  \\\n",
       "0  0.961261   0.951566  0.962076  0.972820  0.961142   \n",
       "1  0.961397   0.950630  0.962254  0.974166  0.961266   \n",
       "\n",
       "                  model_name  \n",
       "0  Gardient boost classifier  \n",
       "1  Gardient boost classifier  "
      ]
     },
     "execution_count": 28,
     "metadata": {},
     "output_type": "execute_result"
    }
   ],
   "source": [
    "df_result"
   ]
  },
  {
   "cell_type": "markdown",
   "metadata": {},
   "source": [
    "## Duplicate feature removel"
   ]
  },
  {
   "cell_type": "code",
   "execution_count": 29,
   "metadata": {},
   "outputs": [],
   "source": [
    "X_train_T = X_train_quasi_filter.T\n",
    "x_test_T = x_test_quasi_filter.T"
   ]
  },
  {
   "cell_type": "code",
   "execution_count": 30,
   "metadata": {},
   "outputs": [],
   "source": [
    "X_train_T = pd.DataFrame(X_train_T)\n",
    "x_test_T = pd.DataFrame(x_test_T)"
   ]
  },
  {
   "cell_type": "code",
   "execution_count": 31,
   "metadata": {},
   "outputs": [
    {
     "data": {
      "text/plain": [
       "2"
      ]
     },
     "execution_count": 31,
     "metadata": {},
     "output_type": "execute_result"
    }
   ],
   "source": [
    "X_train_T.duplicated().sum()"
   ]
  },
  {
   "cell_type": "code",
   "execution_count": 32,
   "metadata": {},
   "outputs": [],
   "source": [
    "duplicated_features = X_train_T.duplicated()"
   ]
  },
  {
   "cell_type": "code",
   "execution_count": 34,
   "metadata": {},
   "outputs": [],
   "source": [
    "features_to_keep =[not temp for temp in duplicated_features]"
   ]
  },
  {
   "cell_type": "code",
   "execution_count": 35,
   "metadata": {},
   "outputs": [],
   "source": [
    "X_train_unique = X_train_T[features_to_keep].T\n",
    "x_test_unique = x_test_T[features_to_keep].T"
   ]
  },
  {
   "cell_type": "code",
   "execution_count": 36,
   "metadata": {},
   "outputs": [
    {
     "name": "stdout",
     "output_type": "stream",
     "text": [
      "Wall time: 1min 43s\n"
     ]
    }
   ],
   "source": [
    "%%time\n",
    "gbc = GradientBoostingClassifier(n_estimators = 200, max_depth =9, learning_rate =0.1)\n",
    "gbc.fit(X_train_unique,y_train)\n",
    "predictions = gbc.predict(x_test_unique)\n",
    "data = get_metrics(y_test,predictions)\n",
    "df_result = df_result.append(data, ignore_index=True)"
   ]
  },
  {
   "cell_type": "code",
   "execution_count": 37,
   "metadata": {},
   "outputs": [
    {
     "data": {
      "text/html": [
       "<div>\n",
       "<style scoped>\n",
       "    .dataframe tbody tr th:only-of-type {\n",
       "        vertical-align: middle;\n",
       "    }\n",
       "\n",
       "    .dataframe tbody tr th {\n",
       "        vertical-align: top;\n",
       "    }\n",
       "\n",
       "    .dataframe thead th {\n",
       "        text-align: right;\n",
       "    }\n",
       "</style>\n",
       "<table border=\"1\" class=\"dataframe\">\n",
       "  <thead>\n",
       "    <tr style=\"text-align: right;\">\n",
       "      <th></th>\n",
       "      <th>accuracy</th>\n",
       "      <th>precision</th>\n",
       "      <th>f1</th>\n",
       "      <th>recall</th>\n",
       "      <th>roc</th>\n",
       "      <th>model_name</th>\n",
       "    </tr>\n",
       "  </thead>\n",
       "  <tbody>\n",
       "    <tr>\n",
       "      <th>0</th>\n",
       "      <td>0.961261</td>\n",
       "      <td>0.951566</td>\n",
       "      <td>0.962076</td>\n",
       "      <td>0.972820</td>\n",
       "      <td>0.961142</td>\n",
       "      <td>Gardient boost classifier</td>\n",
       "    </tr>\n",
       "    <tr>\n",
       "      <th>1</th>\n",
       "      <td>0.961397</td>\n",
       "      <td>0.950630</td>\n",
       "      <td>0.962254</td>\n",
       "      <td>0.974166</td>\n",
       "      <td>0.961266</td>\n",
       "      <td>Gardient boost classifier</td>\n",
       "    </tr>\n",
       "    <tr>\n",
       "      <th>2</th>\n",
       "      <td>0.960718</td>\n",
       "      <td>0.951992</td>\n",
       "      <td>0.961503</td>\n",
       "      <td>0.971206</td>\n",
       "      <td>0.960610</td>\n",
       "      <td>Gardient boost classifier</td>\n",
       "    </tr>\n",
       "  </tbody>\n",
       "</table>\n",
       "</div>"
      ],
      "text/plain": [
       "   accuracy  precision        f1    recall       roc  \\\n",
       "0  0.961261   0.951566  0.962076  0.972820  0.961142   \n",
       "1  0.961397   0.950630  0.962254  0.974166  0.961266   \n",
       "2  0.960718   0.951992  0.961503  0.971206  0.960610   \n",
       "\n",
       "                  model_name  \n",
       "0  Gardient boost classifier  \n",
       "1  Gardient boost classifier  \n",
       "2  Gardient boost classifier  "
      ]
     },
     "execution_count": 37,
     "metadata": {},
     "output_type": "execute_result"
    }
   ],
   "source": [
    "df_result"
   ]
  },
  {
   "cell_type": "markdown",
   "metadata": {},
   "source": [
    "## Correlated features removel "
   ]
  },
  {
   "cell_type": "code",
   "execution_count": 39,
   "metadata": {},
   "outputs": [],
   "source": [
    "correlation_matrix = X_train_unique.corr()"
   ]
  },
  {
   "cell_type": "code",
   "execution_count": 40,
   "metadata": {},
   "outputs": [
    {
     "data": {
      "text/plain": [
       "<matplotlib.axes._subplots.AxesSubplot at 0x23f8be6ec10>"
      ]
     },
     "execution_count": 40,
     "metadata": {},
     "output_type": "execute_result"
    },
    {
     "data": {
      "image/png": "[encoded data removed]",
      "text/plain": [
       "<Figure size 720x576 with 2 Axes>"
      ]
     },
     "metadata": {
      "needs_background": "light"
     },
     "output_type": "display_data"
    }
   ],
   "source": [
    "f, ax = plt.subplots(figsize=(10, 8))\n",
    "#corr = dataframe.corr()\n",
    "sns.heatmap(correlation_matrix, mask=np.zeros_like(correlation_matrix, dtype=np.bool), cmap=sns.diverging_palette(220, 10, as_cmap=True),\n",
    "            square=True, ax=ax)"
   ]
  },
  {
   "cell_type": "code",
   "execution_count": 41,
   "metadata": {},
   "outputs": [],
   "source": [
    "def get_correlation(data, threshold):\n",
    "    corr_col = set()\n",
    "    corr_mat = data.corr()\n",
    "    for i in range(len(corr_mat.columns)):\n",
    "        for j in range(i):\n",
    "            if abs(corr_mat.iloc[i, j])> threshold:\n",
    "                colnam = corr_mat.columns[i]\n",
    "                corr_col.add(colnam)\n",
    "    return corr_col"
   ]
  },
  {
   "cell_type": "code",
   "execution_count": 42,
   "metadata": {},
   "outputs": [
    {
     "data": {
      "text/plain": [
       "{5, 18, 24, 26, 27, 30}"
      ]
     },
     "execution_count": 42,
     "metadata": {},
     "output_type": "execute_result"
    }
   ],
   "source": [
    "corr_features =get_correlation(X_train_unique, 0.8)\n",
    "corr_features"
   ]
  },
  {
   "cell_type": "code",
   "execution_count": 43,
   "metadata": {},
   "outputs": [],
   "source": [
    "X_train_uncorr = X_train_unique.drop(labels=corr_features, axis = 1)\n",
    "X_test_uncorr = x_test_unique.drop(labels= corr_features, axis = 1)"
   ]
  },
  {
   "cell_type": "code",
   "execution_count": 44,
   "metadata": {},
   "outputs": [
    {
     "name": "stdout",
     "output_type": "stream",
     "text": [
      "Wall time: 1min 17s\n"
     ]
    }
   ],
   "source": [
    "%%time\n",
    "gbc = GradientBoostingClassifier(n_estimators = 200, max_depth =9, learning_rate =0.1)\n",
    "gbc.fit(X_train_uncorr,y_train)\n",
    "predictions = gbc.predict(X_test_uncorr)\n",
    "data = get_metrics(y_test,predictions)\n",
    "df_result = df_result.append(data, ignore_index=True)"
   ]
  },
  {
   "cell_type": "code",
   "execution_count": 45,
   "metadata": {},
   "outputs": [
    {
     "data": {
      "text/html": [
       "<div>\n",
       "<style scoped>\n",
       "    .dataframe tbody tr th:only-of-type {\n",
       "        vertical-align: middle;\n",
       "    }\n",
       "\n",
       "    .dataframe tbody tr th {\n",
       "        vertical-align: top;\n",
       "    }\n",
       "\n",
       "    .dataframe thead th {\n",
       "        text-align: right;\n",
       "    }\n",
       "</style>\n",
       "<table border=\"1\" class=\"dataframe\">\n",
       "  <thead>\n",
       "    <tr style=\"text-align: right;\">\n",
       "      <th></th>\n",
       "      <th>accuracy</th>\n",
       "      <th>precision</th>\n",
       "      <th>f1</th>\n",
       "      <th>recall</th>\n",
       "      <th>roc</th>\n",
       "      <th>model_name</th>\n",
       "    </tr>\n",
       "  </thead>\n",
       "  <tbody>\n",
       "    <tr>\n",
       "      <th>0</th>\n",
       "      <td>0.961261</td>\n",
       "      <td>0.951566</td>\n",
       "      <td>0.962076</td>\n",
       "      <td>0.972820</td>\n",
       "      <td>0.961142</td>\n",
       "      <td>Gardient boost classifier</td>\n",
       "    </tr>\n",
       "    <tr>\n",
       "      <th>1</th>\n",
       "      <td>0.961397</td>\n",
       "      <td>0.950630</td>\n",
       "      <td>0.962254</td>\n",
       "      <td>0.974166</td>\n",
       "      <td>0.961266</td>\n",
       "      <td>Gardient boost classifier</td>\n",
       "    </tr>\n",
       "    <tr>\n",
       "      <th>2</th>\n",
       "      <td>0.960718</td>\n",
       "      <td>0.951992</td>\n",
       "      <td>0.961503</td>\n",
       "      <td>0.971206</td>\n",
       "      <td>0.960610</td>\n",
       "      <td>Gardient boost classifier</td>\n",
       "    </tr>\n",
       "    <tr>\n",
       "      <th>3</th>\n",
       "      <td>0.961125</td>\n",
       "      <td>0.953224</td>\n",
       "      <td>0.961867</td>\n",
       "      <td>0.970667</td>\n",
       "      <td>0.961027</td>\n",
       "      <td>Gardient boost classifier</td>\n",
       "    </tr>\n",
       "  </tbody>\n",
       "</table>\n",
       "</div>"
      ],
      "text/plain": [
       "   accuracy  precision        f1    recall       roc  \\\n",
       "0  0.961261   0.951566  0.962076  0.972820  0.961142   \n",
       "1  0.961397   0.950630  0.962254  0.974166  0.961266   \n",
       "2  0.960718   0.951992  0.961503  0.971206  0.960610   \n",
       "3  0.961125   0.953224  0.961867  0.970667  0.961027   \n",
       "\n",
       "                  model_name  \n",
       "0  Gardient boost classifier  \n",
       "1  Gardient boost classifier  \n",
       "2  Gardient boost classifier  \n",
       "3  Gardient boost classifier  "
      ]
     },
     "execution_count": 45,
     "metadata": {},
     "output_type": "execute_result"
    }
   ],
   "source": [
    "df_result"
   ]
  },
  {
   "cell_type": "markdown",
   "metadata": {},
   "source": [
    "## ANOVA test"
   ]
  },
  {
   "cell_type": "code",
   "execution_count": 47,
   "metadata": {},
   "outputs": [],
   "source": [
    "sel = f_classif(X_train_uncorr, y_train)"
   ]
  },
  {
   "cell_type": "code",
   "execution_count": 48,
   "metadata": {},
   "outputs": [],
   "source": [
    "p_values = pd.Series(sel[1])\n",
    "p_values.index = X_train_uncorr.columns\n",
    "p_values.sort_values(ascending = True, inplace = True)"
   ]
  },
  {
   "cell_type": "code",
   "execution_count": 49,
   "metadata": {},
   "outputs": [
    {
     "data": {
      "image/png": "[encoded data removed]",
      "text/plain": [
       "<Figure size 1152x360 with 1 Axes>"
      ]
     },
     "metadata": {
      "needs_background": "light"
     },
     "output_type": "display_data"
    }
   ],
   "source": [
    "p_values.plot.bar(figsize = (16, 5))\n",
    "plt.title('pvalues with respect to features')\n",
    "plt.show()"
   ]
  },
  {
   "cell_type": "code",
   "execution_count": 50,
   "metadata": {},
   "outputs": [],
   "source": [
    "p_values = p_values[p_values<0.05]"
   ]
  },
  {
   "cell_type": "code",
   "execution_count": 51,
   "metadata": {},
   "outputs": [
    {
     "data": {
      "text/plain": [
       "Int64Index([15, 28, 20, 17, 16, 14, 13, 12, 10, 36,  7,  6,  3,  2, 32, 35, 21,\n",
       "            22, 23,  4,  8,  0, 19,  1, 25, 31, 29,  9],\n",
       "           dtype='int64')"
      ]
     },
     "execution_count": 51,
     "metadata": {},
     "output_type": "execute_result"
    }
   ],
   "source": [
    "p_values.index"
   ]
  },
  {
   "cell_type": "code",
   "execution_count": 53,
   "metadata": {},
   "outputs": [],
   "source": [
    "X_train_p = X_train_uncorr[p_values.index]\n",
    "X_test_p = X_test_uncorr[p_values.index]"
   ]
  },
  {
   "cell_type": "code",
   "execution_count": 54,
   "metadata": {},
   "outputs": [
    {
     "name": "stdout",
     "output_type": "stream",
     "text": [
      "Wall time: 1min 10s\n"
     ]
    }
   ],
   "source": [
    "%%time\n",
    "gbc = GradientBoostingClassifier(n_estimators = 200, max_depth =9, learning_rate =0.1)\n",
    "gbc.fit(X_train_p,y_train)\n",
    "predictions = gbc.predict(X_test_p)\n",
    "data = get_metrics(y_test,predictions)\n",
    "df_result = df_result.append(data, ignore_index=True)"
   ]
  },
  {
   "cell_type": "code",
   "execution_count": 55,
   "metadata": {},
   "outputs": [
    {
     "data": {
      "text/html": [
       "<div>\n",
       "<style scoped>\n",
       "    .dataframe tbody tr th:only-of-type {\n",
       "        vertical-align: middle;\n",
       "    }\n",
       "\n",
       "    .dataframe tbody tr th {\n",
       "        vertical-align: top;\n",
       "    }\n",
       "\n",
       "    .dataframe thead th {\n",
       "        text-align: right;\n",
       "    }\n",
       "</style>\n",
       "<table border=\"1\" class=\"dataframe\">\n",
       "  <thead>\n",
       "    <tr style=\"text-align: right;\">\n",
       "      <th></th>\n",
       "      <th>accuracy</th>\n",
       "      <th>precision</th>\n",
       "      <th>f1</th>\n",
       "      <th>recall</th>\n",
       "      <th>roc</th>\n",
       "      <th>model_name</th>\n",
       "    </tr>\n",
       "  </thead>\n",
       "  <tbody>\n",
       "    <tr>\n",
       "      <th>0</th>\n",
       "      <td>0.961261</td>\n",
       "      <td>0.951566</td>\n",
       "      <td>0.962076</td>\n",
       "      <td>0.972820</td>\n",
       "      <td>0.961142</td>\n",
       "      <td>Gardient boost classifier</td>\n",
       "    </tr>\n",
       "    <tr>\n",
       "      <th>1</th>\n",
       "      <td>0.961397</td>\n",
       "      <td>0.950630</td>\n",
       "      <td>0.962254</td>\n",
       "      <td>0.974166</td>\n",
       "      <td>0.961266</td>\n",
       "      <td>Gardient boost classifier</td>\n",
       "    </tr>\n",
       "    <tr>\n",
       "      <th>2</th>\n",
       "      <td>0.960718</td>\n",
       "      <td>0.951992</td>\n",
       "      <td>0.961503</td>\n",
       "      <td>0.971206</td>\n",
       "      <td>0.960610</td>\n",
       "      <td>Gardient boost classifier</td>\n",
       "    </tr>\n",
       "    <tr>\n",
       "      <th>3</th>\n",
       "      <td>0.961125</td>\n",
       "      <td>0.953224</td>\n",
       "      <td>0.961867</td>\n",
       "      <td>0.970667</td>\n",
       "      <td>0.961027</td>\n",
       "      <td>Gardient boost classifier</td>\n",
       "    </tr>\n",
       "    <tr>\n",
       "      <th>4</th>\n",
       "      <td>0.959766</td>\n",
       "      <td>0.948348</td>\n",
       "      <td>0.960691</td>\n",
       "      <td>0.973358</td>\n",
       "      <td>0.959626</td>\n",
       "      <td>Gardient boost classifier</td>\n",
       "    </tr>\n",
       "  </tbody>\n",
       "</table>\n",
       "</div>"
      ],
      "text/plain": [
       "   accuracy  precision        f1    recall       roc  \\\n",
       "0  0.961261   0.951566  0.962076  0.972820  0.961142   \n",
       "1  0.961397   0.950630  0.962254  0.974166  0.961266   \n",
       "2  0.960718   0.951992  0.961503  0.971206  0.960610   \n",
       "3  0.961125   0.953224  0.961867  0.970667  0.961027   \n",
       "4  0.959766   0.948348  0.960691  0.973358  0.959626   \n",
       "\n",
       "                  model_name  \n",
       "0  Gardient boost classifier  \n",
       "1  Gardient boost classifier  \n",
       "2  Gardient boost classifier  \n",
       "3  Gardient boost classifier  \n",
       "4  Gardient boost classifier  "
      ]
     },
     "execution_count": 55,
     "metadata": {},
     "output_type": "execute_result"
    }
   ],
   "source": [
    "df_result"
   ]
  },
  {
   "cell_type": "markdown",
   "metadata": {},
   "source": [
    "## CHI2-squre test"
   ]
  },
  {
   "cell_type": "code",
   "execution_count": 57,
   "metadata": {},
   "outputs": [],
   "source": [
    "f_score = chi2(X_train_p, y_train)"
   ]
  },
  {
   "cell_type": "code",
   "execution_count": 58,
   "metadata": {},
   "outputs": [],
   "source": [
    "df_result.drop(df_result.index, inplace=True)"
   ]
  },
  {
   "cell_type": "code",
   "execution_count": 59,
   "metadata": {},
   "outputs": [
    {
     "data": {
      "text/plain": [
       "15     0.000000e+00\n",
       "1      0.000000e+00\n",
       "19     0.000000e+00\n",
       "0      0.000000e+00\n",
       "4      0.000000e+00\n",
       "22     0.000000e+00\n",
       "21     0.000000e+00\n",
       "35     0.000000e+00\n",
       "32     0.000000e+00\n",
       "3      0.000000e+00\n",
       "6      0.000000e+00\n",
       "2      0.000000e+00\n",
       "36     0.000000e+00\n",
       "10     0.000000e+00\n",
       "12     0.000000e+00\n",
       "13     0.000000e+00\n",
       "14     0.000000e+00\n",
       "16     0.000000e+00\n",
       "17     0.000000e+00\n",
       "20     0.000000e+00\n",
       "28     0.000000e+00\n",
       "7      0.000000e+00\n",
       "23    1.556944e-233\n",
       "8     4.988353e-131\n",
       "25     9.676228e-66\n",
       "31     3.481669e-43\n",
       "29     1.915687e-11\n",
       "9      1.790120e-02\n",
       "dtype: float64"
      ]
     },
     "execution_count": 59,
     "metadata": {},
     "output_type": "execute_result"
    }
   ],
   "source": [
    "p_values = pd.Series(f_score[1], index = X_train_p.columns)\n",
    "p_values.sort_values(ascending = True, inplace = True)\n",
    "p_values"
   ]
  },
  {
   "cell_type": "code",
   "execution_count": 60,
   "metadata": {},
   "outputs": [
    {
     "data": {
      "text/plain": [
       "Text(0.5, 1.0, 'pvalues with respect to features')"
      ]
     },
     "execution_count": 60,
     "metadata": {},
     "output_type": "execute_result"
    },
    {
     "data": {
      "image/png": "[encoded data removed]",
      "text/plain": [
       "<Figure size 432x288 with 1 Axes>"
      ]
     },
     "metadata": {
      "needs_background": "light"
     },
     "output_type": "display_data"
    }
   ],
   "source": [
    "p_values.plot.bar()\n",
    "plt.title('pvalues with respect to features')"
   ]
  },
  {
   "cell_type": "code",
   "execution_count": 61,
   "metadata": {},
   "outputs": [],
   "source": [
    "X_train_2 = X_train_p.drop([9] , axis=1)\n",
    "X_test_2 = X_test_p.drop([9] , axis=1)"
   ]
  },
  {
   "cell_type": "code",
   "execution_count": 62,
   "metadata": {},
   "outputs": [
    {
     "name": "stdout",
     "output_type": "stream",
     "text": [
      "Wall time: 1min 7s\n"
     ]
    }
   ],
   "source": [
    "%%time\n",
    "gbc = GradientBoostingClassifier(n_estimators = 200, max_depth =9, learning_rate =0.1)\n",
    "gbc.fit(X_train_2,y_train)\n",
    "predictions = gbc.predict(X_test_2)\n",
    "data = get_metrics(y_test,predictions)\n",
    "df_result = df_result.append(data, ignore_index=True)"
   ]
  },
  {
   "cell_type": "code",
   "execution_count": 63,
   "metadata": {},
   "outputs": [
    {
     "data": {
      "text/html": [
       "<div>\n",
       "<style scoped>\n",
       "    .dataframe tbody tr th:only-of-type {\n",
       "        vertical-align: middle;\n",
       "    }\n",
       "\n",
       "    .dataframe tbody tr th {\n",
       "        vertical-align: top;\n",
       "    }\n",
       "\n",
       "    .dataframe thead th {\n",
       "        text-align: right;\n",
       "    }\n",
       "</style>\n",
       "<table border=\"1\" class=\"dataframe\">\n",
       "  <thead>\n",
       "    <tr style=\"text-align: right;\">\n",
       "      <th></th>\n",
       "      <th>accuracy</th>\n",
       "      <th>precision</th>\n",
       "      <th>f1</th>\n",
       "      <th>recall</th>\n",
       "      <th>roc</th>\n",
       "      <th>model_name</th>\n",
       "    </tr>\n",
       "  </thead>\n",
       "  <tbody>\n",
       "    <tr>\n",
       "      <th>0</th>\n",
       "      <td>0.959358</td>\n",
       "      <td>0.950673</td>\n",
       "      <td>0.960171</td>\n",
       "      <td>0.96986</td>\n",
       "      <td>0.95925</td>\n",
       "      <td>Gardient boost classifier</td>\n",
       "    </tr>\n",
       "  </tbody>\n",
       "</table>\n",
       "</div>"
      ],
      "text/plain": [
       "   accuracy  precision        f1   recall      roc                 model_name\n",
       "0  0.959358   0.950673  0.960171  0.96986  0.95925  Gardient boost classifier"
      ]
     },
     "execution_count": 63,
     "metadata": {},
     "output_type": "execute_result"
    }
   ],
   "source": [
    "df_result"
   ]
  },
  {
   "cell_type": "code",
   "execution_count": null,
   "metadata": {},
   "outputs": [],
   "source": []
  }
 ],
 "metadata": {
  "kernelspec": {
   "display_name": "Python 3",
   "language": "python",
   "name": "python3"
  },
  "language_info": {
   "codemirror_mode": {
    "name": "ipython",
    "version": 3
   },
   "file_extension": ".py",
   "mimetype": "text/x-python",
   "name": "python",
   "nbconvert_exporter": "python",
   "pygments_lexer": "ipython3",
   "version": "3.8.8"
  }
 },
 "nbformat": 4,
 "nbformat_minor": 4
}
